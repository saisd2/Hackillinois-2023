{
 "cells": [
  {
   "cell_type": "code",
   "execution_count": 8,
   "id": "3c3f9d20",
   "metadata": {},
   "outputs": [
    {
     "name": "stdout",
     "output_type": "stream",
     "text": [
      "{\"data\":{\"customer\":{\"company\":\"Mercy Support Services\",\"connectId\":null,\"createdAt\":\"2022-10-04 20:11:56\",\"customerIds\":{\"braintree\":\"EC8CD046740E43298BB1636DB0923A91\"},\"email\":\"mercy@bhp.io\",\"fee\":0.0,\"firstName\":\"Mercy\",\"id\":\"EC8CD046740E43298BB1636DB0923A91\",\"lastName\":\"Johnson\",\"notes\":\"\",\"organizationId\":\"9A6D20A4DB674341BDC290E1E88126BD\",\"phoneNumber\":\"555-555-5555\",\"state\":\"Florida\",\"street\":\"515 College Drive\",\"town\":\"middleburg\",\"uniqueHash\":\"11511E998D9E430FA08D90D62F8A898C\",\"updateAt\":\"2022-11-27 19:58:38\",\"zipCode\":\"32068\"},\"transaction\":{\"IPv4\":null,\"alpha2\":\"US\",\"amount\":78.25,\"bankCity\":null,\"bankCountryCode\":\"USA\",\"bankName\":\"JPMORGAN CHASE BANK, N.A.\",\"bankPhone\":\"1-800-432-3117\",\"bankUrl\":\"www.chase.com\",\"billingFrequency\":null,\"brand\":\"VISA\",\"cardType\":\"Visa\",\"city\":null,\"countryName\":\"United States\",\"country_code\":null,\"country_name\":null,\"createdAt\":\"2022-11-11 13:24:05\",\"currency\":\"USD\",\"customerCompany\":null,\"customerId\":\"EC8CD046740E43298BB1636DB0923A91\",\"customerName\":null,\"cycles\":null,\"feeAmount\":2.52,\"fullResponse\":null,\"id\":\"1C6394084FF144D5949C01BBF0D719CF\",\"isLive\":false,\"isPrepaid\":0,\"isRecurring\":false,\"last4\":\"1111\",\"latitude\":null,\"longitude\":null,\"notes\":null,\"organizationId\":\"9A6D20A4DB674341BDC290E1E88126BD\",\"outcome\":\"success\",\"paymentMethodId\":\"6B7EF0425AC14345B0D9291574A07A0F\",\"planName\":\"Test Charge\",\"postal\":null,\"processedGateway\":1,\"processedGatewayName\":\"Braintree Payments\",\"processorChargeId\":\"16w8e3ts\",\"state\":null,\"type\":\"CREDIT\",\"updateAt\":\"2022-11-11 13:24:05\"}},\"status\":\"success\"}\n",
      "\n"
     ]
    }
   ],
   "source": [
    "import requests\n",
    "\n",
    "url = \"https://api.bluehillpayments.io/transactions/v2/get/1C6394084FF144D5949C01BBF0D719CF\"\n",
    "\n",
    "payload={}\n",
    "headers = {}\n",
    "\n",
    "response = requests.request(\"GET\", url, headers=headers, data=payload)\n",
    "\n",
    "print(response.text)"
   ]
  },
  {
   "cell_type": "code",
   "execution_count": 10,
   "id": "b3601551",
   "metadata": {},
   "outputs": [],
   "source": [
    "!touch transactions.py"
   ]
  },
  {
   "cell_type": "code",
   "execution_count": null,
   "id": "8107a296",
   "metadata": {},
   "outputs": [],
   "source": []
  }
 ],
 "metadata": {
  "kernelspec": {
   "display_name": "Python 3",
   "language": "python",
   "name": "python3"
  },
  "language_info": {
   "codemirror_mode": {
    "name": "ipython",
    "version": 3
   },
   "file_extension": ".py",
   "mimetype": "text/x-python",
   "name": "python",
   "nbconvert_exporter": "python",
   "pygments_lexer": "ipython3",
   "version": "3.8.8"
  }
 },
 "nbformat": 4,
 "nbformat_minor": 5
}
